{
 "cells": [
  {
   "cell_type": "markdown",
   "metadata": {},
   "source": [
    "Introduction:\n",
    "\n",
    "This program uses Python's regular expression or regex capabilities to extract information/data using Python's `re` module. To regex some meaniningful expressions, a data file containing meterological information obtained from Australia's Bureau of Meteorology (BOM) is used. A set of alpha-numerical and numerical datas are extracted using Python's regex. Although note that regex is not the most efficient way to carry out this type of data analysis and interpretation. Here it is just used to show the versatality of regex and to learn using it for Python."
   ]
  },
  {
   "cell_type": "code",
   "execution_count": 1,
   "metadata": {
    "collapsed": false
   },
   "outputs": [],
   "source": [
    "%matplotlib inline\n",
    "\n",
    "import sys\n",
    "import re\n",
    "import os\n",
    "import matplotlib.pyplot as plt"
   ]
  },
  {
   "cell_type": "markdown",
   "metadata": {},
   "source": [
    "First, we do the importing business. Here, we import some basic modules in Python such as sys and os. The two new probably are `re`, which is the regular expression or regex module and, `matplotlib` is the Python's plotting library. "
   ]
  },
  {
   "cell_type": "code",
   "execution_count": 2,
   "metadata": {
    "collapsed": false
   },
   "outputs": [],
   "source": [
    "headerPattern = re.compile(r'(?P<pCode>[A-Za-z]+[ ]?[a-z]+),(?P<sNumber>(\\w+[ ]?)+),(?P<ymd>(\\w+,?){,3}),(?P<maxT>(\\w+[ ]?\\w+)),')"
   ]
  },
  {
   "cell_type": "markdown",
   "metadata": {},
   "source": [
    "The first regex operation that we carry out is the compilation of the header pattern in the `data.txt` file. Compiling the pattern convertes to bytecode, which is then subsequently used to search. At this stage, its ideal to look at the `data.txt` if not already and to find the header information. As we see, the header contains `Product code`, `Bureau of Meteorology station number`, `Year`, `month`, `day`, etc and we try to extract all of these via the `headerPattern` as shown above. Note that we use raw string `r` notation in Python and we also group the regex using `( )`. Grouping regex is a usefull feature when extracting multiple information and they can be assigned with a choice of variable. For example in the above, the `Produce code` is assigned to `pCode` and subsequently when we search for `Product code` we can grab all the associated strings via  `pCode`. This feature will be become clear as we go further."
   ]
  },
  {
   "cell_type": "code",
   "execution_count": 3,
   "metadata": {
    "collapsed": false
   },
   "outputs": [],
   "source": [
    "productCode = re.compile(r'(?P<pC>\\w+)')\n",
    "stationNumber = re.compile(r'\\w+,(?P<sN>\\d+)')\n",
    "ymd = re.compile(r'\\w+,\\d+,(?P<year>\\d+),(?P<month>\\d+),(?P<day>\\d+)')\n",
    "maxTemp = re.compile(r'\\w+,(\\d+,){,4}(?P<mT>\\d+.\\d+)')"
   ]
  },
  {
   "cell_type": "markdown",
   "metadata": {},
   "source": [
    "The above are again the regex compiling for the actual data present in the `data.txt` that we are intereted to extract. Note the grouping and how the variables are assigned for each of the regex. "
   ]
  },
  {
   "cell_type": "code",
   "execution_count": 4,
   "metadata": {
    "collapsed": false
   },
   "outputs": [],
   "source": [
    "monthValue = []\n",
    "dayValue = []\n",
    "maxTempValue = []"
   ]
  },
  {
   "cell_type": "markdown",
   "metadata": {},
   "source": [
    "The above are the empty lists and will be used to update the relevant information that is obtained when the regex are searched in the data file."
   ]
  },
  {
   "cell_type": "code",
   "execution_count": 5,
   "metadata": {
    "collapsed": false
   },
   "outputs": [
    {
     "name": "stdout",
     "output_type": "stream",
     "text": [
      "Product code\n",
      "Bureau of Meteorology station number\n",
      "Year,Month,Day\n",
      "Maximum temperature\n"
     ]
    }
   ],
   "source": [
    "with open('data.txt', 'r') as data:\n",
    "    for line in data:\n",
    "\n",
    "        if not 'IDCJAC0010' in line:\n",
    "            headerSearch = headerPattern.search(line.strip())\n",
    "            print headerSearch.group('pCode')\n",
    "            print headerSearch.group('sNumber')\n",
    "            print headerSearch.group('ymd')\n",
    "            print headerSearch.group('maxT')\n",
    "        \n",
    "        if not 'Product' in line:\n",
    "            pCSearch = productCode.search(line.strip())\n",
    "            sNSearch = stationNumber.search(line.strip())\n",
    "            ymdSearch = ymd.search(line.strip())\n",
    "            maxTempSearch = maxTemp.search(line.strip())\n",
    "            \n",
    "            month = ymdSearch.group('month')\n",
    "            day = ymdSearch.group('day')\n",
    "            mTemp = maxTempSearch.group('mT')\n",
    "            \n",
    "            monthValue.append(month)\n",
    "            dayValue.append(day)\n",
    "            maxTempValue.append(mTemp)"
   ]
  },
  {
   "cell_type": "markdown",
   "metadata": {},
   "source": [
    "In the above piece of code, we open the `data.txt` for reading and then firstly search the header pattern. Here, note that how we use the variables that we have assigned such as `pCode`, `sNumber`, etc to store the search results. In a similar fashion, we search the relevant data. After all the regexs are found, the corresponding data are appended to the empty lists that we had before."
   ]
  },
  {
   "cell_type": "code",
   "execution_count": 6,
   "metadata": {
    "collapsed": false
   },
   "outputs": [
    {
     "name": "stdout",
     "output_type": "stream",
     "text": [
      "365\n"
     ]
    }
   ],
   "source": [
    "dataValues = zip(monthValue, dayValue, maxTempValue)\n",
    "print len(dataValues)"
   ]
  },
  {
   "cell_type": "markdown",
   "metadata": {},
   "source": [
    "Here, we basically `zip` the three important lists making `dataValues` as a tuple."
   ]
  },
  {
   "cell_type": "code",
   "execution_count": 7,
   "metadata": {
    "collapsed": false
   },
   "outputs": [],
   "source": [
    "janValues = dataValues[0:31]\n",
    "janDay = [x[1] for x in janValues]\n",
    "janTemp = [x[2] for x in janValues]"
   ]
  },
  {
   "cell_type": "markdown",
   "metadata": {},
   "source": [
    "This is where it gets a bit interesting! In the previous step, the length of the `dataValues` is printed as `365` which indicates a year worth of data. Now since we are interested only in the January, which has `31` days, we create another variable called `janValues` and slice the tuple from `0` to `31`. Note that `janValues` is also a tuple with the `31` data sets. Next we use list comprehension to disect the tuple. `janValues` has three lists for every set of data representing month, day and maximum temperature, in which the index[0] would correspond to the first list which is month, index[1] for day and index[2] for temperature."
   ]
  },
  {
   "cell_type": "code",
   "execution_count": 8,
   "metadata": {
    "collapsed": false
   },
   "outputs": [],
   "source": [
    "febValues = dataValues[len(janValues)+1:len(janValues)+28]\n",
    "febDay = [x[1] for x in febValues]\n",
    "febTemp = [x[2] for x in febValues]"
   ]
  },
  {
   "cell_type": "markdown",
   "metadata": {},
   "source": [
    "Similar to the month of January, we slice the `dataValues` into `28` days and assign the day and temperature variables."
   ]
  },
  {
   "cell_type": "code",
   "execution_count": 9,
   "metadata": {
    "collapsed": false
   },
   "outputs": [
    {
     "data": {
      "image/png": "[encoded data removed]",
      "text/plain": [
       "<matplotlib.figure.Figure at 0x7ff0d0fcacd0>"
      ]
     },
     "metadata": {},
     "output_type": "display_data"
    },
    {
     "data": {
      "image/png": "[encoded data removed]",
      "text/plain": [
       "<matplotlib.figure.Figure at 0x7ff0ceb8f510>"
      ]
     },
     "metadata": {},
     "output_type": "display_data"
    }
   ],
   "source": [
    "if janValues:\n",
    "\tplt.plot(janDay, janTemp)\n",
    "\tplt.xlabel('Days')\n",
    "\tplt.ylabel('Temperature [C]')\n",
    "\tplt.xlim(1,len(janValues))\n",
    "\tplt.title('Maximum temperature for the month of January, Station ID: IDCJAC0010')\n",
    "\tplt.show()\n",
    "else:\n",
    "\tprint \"Evaluate January values\"\n",
    "    \n",
    "if febValues:\n",
    "\tplt.plot(febDay,febTemp)\n",
    "\tplt.xlabel('Days')\n",
    "\tplt.ylabel('Temperature [C]')\n",
    "\tplt.xlim(1, len(febValues))\n",
    "\tplt.title('Maximum temperature for the month of Februrary, Station ID: IDCJAC0010')\n",
    "\tplt.show()\n",
    "else:\n",
    "\tprint \"Evaluate Februrary values\""
   ]
  }
 ],
 "metadata": {
  "kernelspec": {
   "display_name": "Python 2",
   "language": "python",
   "name": "python2"
  },
  "language_info": {
   "codemirror_mode": {
    "name": "ipython",
    "version": 2
   },
   "file_extension": ".py",
   "mimetype": "text/x-python",
   "name": "python",
   "nbconvert_exporter": "python",
   "pygments_lexer": "ipython2",
   "version": "2.7.10"
  }
 },
 "nbformat": 4,
 "nbformat_minor": 0
}
